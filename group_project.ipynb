{
 "cells": [
  {
   "cell_type": "markdown",
   "id": "automatic-affair",
   "metadata": {},
   "source": [
    "# Group project"
   ]
  },
  {
   "cell_type": "markdown",
   "id": "photographic-leisure",
   "metadata": {},
   "source": [
    "### Import libraries and data"
   ]
  },
  {
   "cell_type": "code",
   "execution_count": 1,
   "id": "cosmetic-limitation",
   "metadata": {},
   "outputs": [],
   "source": [
    "# Library imports\n",
    "import time, math, cv2, imutils, os, json, random\n",
    "import numpy as np\n",
    "import matplotlib.pyplot as plt"
   ]
  },
  {
   "cell_type": "code",
   "execution_count": 5,
   "id": "convinced-street",
   "metadata": {},
   "outputs": [
    {
     "name": "stdout",
     "output_type": "stream",
     "text": [
      "Loading data...\n",
      "Done.\n",
      "Image load time: 18.641541957855225\n",
      "[[{'velocity': [-1.2287469463, -0.0101401592], 'bbox': {'top': 340.3418273926, 'right': 868.1537475586, 'bottom': 393.3275146484, 'left': 784.6638793945}, 'position': [21.30970213, 2.7243980956]}], [array([[146, 143, 170, ..., 153, 154, 154],\n",
      "       [149, 145, 163, ..., 155, 157, 158],\n",
      "       [147, 144, 152, ..., 155, 155, 156],\n",
      "       ...,\n",
      "       [ 22,  22,  22, ...,  11,  11,  11],\n",
      "       [ 21,  21,  21, ...,  13,  12,  12],\n",
      "       [ 20,  20,  20, ...,  13,  13,  13]], dtype=uint8), array([[146, 153, 166, ..., 156, 156, 156],\n",
      "       [150, 154, 162, ..., 156, 156, 156],\n",
      "       [146, 146, 150, ..., 156, 157, 157],\n",
      "       ...,\n",
      "       [ 24,  23,  23, ...,  12,  12,  12],\n",
      "       [ 23,  23,  22, ...,  12,  12,  11],\n",
      "       [ 22,  22,  22, ...,  12,  11,  11]], dtype=uint8)]]\n",
      "Training clips: 1074\n",
      "Testing clips: 269\n"
     ]
    }
   ],
   "source": [
    "# Task 1 data imports\n",
    "\n",
    "# get_data: Import data from file system\n",
    "# base_path: Path to the containing folder\n",
    "# clip_indexes: Array of clip index values (0-40)\n",
    "# Returns array of form [[json, [img1, ...]], [json, [img1, ...]], ...]\n",
    "def get_data(base_path, clip_indexes):\n",
    "    img_data = []\n",
    "    for subdir, dirs, files in os.walk(base_path):\n",
    "        # Assumes json is opened first, then all images for it in order\n",
    "        for file in files:\n",
    "            if (file == \"annotation.json\"):\n",
    "                with open(os.path.join(subdir, file)) as f:\n",
    "                    img_data += [[json.load(f), []]]\n",
    "            if (len(file) == 7 and file[-4:] == \".jpg\" and int(file[:3]) in clip_indexes):\n",
    "                img_data[-1][1] += [cv2.imread(os.path.join(subdir, file), cv2.IMREAD_GRAYSCALE)]\n",
    "    return img_data\n",
    "\n",
    "t0 = time.time()\n",
    "\n",
    "print(\"Loading data...\")\n",
    "\n",
    "# Load data as [annotation, bgr image] pairs\n",
    "train_data = get_data(\"data/train/clips\", [40])\n",
    "test_data = get_data(\"data/test/clips\", [40])\n",
    "\n",
    "print(\"Done.\")\n",
    "print(\"Image load time:\", time.time() - t0)\n",
    "\n",
    "print(\"Training clips:\", len(train_data))\n",
    "print(\"Testing clips:\", len(test_data))"
   ]
  },
  {
   "cell_type": "markdown",
   "id": "professional-lounge",
   "metadata": {},
   "source": [
    "## Task 1"
   ]
  },
  {
   "cell_type": "code",
   "execution_count": null,
   "id": "binary-chicago",
   "metadata": {},
   "outputs": [],
   "source": [
    "# TODO: Car detection"
   ]
  }
 ],
 "metadata": {
  "kernelspec": {
   "display_name": "Python 3",
   "language": "python",
   "name": "python3"
  },
  "language_info": {
   "codemirror_mode": {
    "name": "ipython",
    "version": 3
   },
   "file_extension": ".py",
   "mimetype": "text/x-python",
   "name": "python",
   "nbconvert_exporter": "python",
   "pygments_lexer": "ipython3",
   "version": "3.9.1"
  }
 },
 "nbformat": 4,
 "nbformat_minor": 5
}
